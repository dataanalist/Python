{
 "cells": [
  {
   "cell_type": "code",
   "execution_count": 36,
   "metadata": {},
   "outputs": [],
   "source": [
    "import random\n",
    "import numpy as np\n",
    "from numpy.random import choice\n",
    "import pandas as pd\n",
    "import sys"
   ]
  },
  {
   "cell_type": "code",
   "execution_count": 37,
   "metadata": {},
   "outputs": [],
   "source": [
    "totalSequence = 500\n",
    "crossOver = 0.5\n",
    "targetSequence = \"31746025\" # 15863724\n",
    "positions = [x for x in range(8)] # for 8X8\n",
    "maxFitness = 28"
   ]
  },
  {
   "cell_type": "code",
   "execution_count": 38,
   "metadata": {},
   "outputs": [],
   "source": [
    "def calculate_fitness(srcSequence):\n",
    "    sequence = [int(x) for x in srcSequence]\n",
    "    horizontal_collisions = sum([sequence.count(queen)-1 for queen in sequence])/2\n",
    "    n = len(sequence)\n",
    "    \n",
    "    left_diagonal = [0] * 2*n\n",
    "    right_diagonal = [0] * 2*n\n",
    "    \n",
    "    for i in range(n):\n",
    "        left_diagonal[i + sequence[i] - 1] += 1\n",
    "        right_diagonal[len(sequence) - i + sequence[i] - 2] += 1\n",
    "    \n",
    "    diagonal_collisions = 0\n",
    "    \n",
    "    for i in range(2*n-1):\n",
    "        counter = 0\n",
    "        if left_diagonal[i] > 1:\n",
    "            counter += left_diagonal[i]-1\n",
    "        if right_diagonal[i] > 1:\n",
    "            counter += right_diagonal[i]-1\n",
    "        diagonal_collisions += counter / (n-abs(i-n+1))\n",
    "    \n",
    "    return int(maxFitness - (horizontal_collisions + diagonal_collisions)) "
   ]
  },
  {
   "cell_type": "code",
   "execution_count": 39,
   "metadata": {},
   "outputs": [],
   "source": [
    "def generate_initial_sequence():\n",
    "    secureRandom = random.SystemRandom()\n",
    "    initialPopulation = []\n",
    "    sequenceScore = []\n",
    "    for sequenceNum in range(totalSequence):\n",
    "        randomSequence = []\n",
    "        for sequence in range(len(targetSequence)):\n",
    "            selectedPosition = str(secureRandom.choice(positions))\n",
    "            randomSequence.append(selectedPosition)\n",
    "        initialPopulation.append(randomSequence)\n",
    "        sequenceScore.append(generate_sequence_score(randomSequence))\n",
    "    return initialPopulation,sequenceScore"
   ]
  },
  {
   "cell_type": "code",
   "execution_count": 40,
   "metadata": {},
   "outputs": [],
   "source": [
    "def generate_sequence_score(sequenceData):\n",
    "    score = 0\n",
    "    for sequence in range(len(targetSequence)):\n",
    "        if(sequenceData[sequence] == targetSequence[sequence]):\n",
    "            score = score + 1\n",
    "    return score"
   ]
  },
  {
   "cell_type": "code",
   "execution_count": 41,
   "metadata": {},
   "outputs": [],
   "source": [
    "def perform_crossover_mutation(parent1,parent2):\n",
    "    secureRandom = random.SystemRandom()\n",
    "    crossOverPoint = int(crossOver*len(targetSequence)) # default technique swap after 50% of sequence\n",
    "    # cross over\n",
    "    child1 = parent1[0:crossOverPoint]+parent2[crossOverPoint:]\n",
    "    child2 = parent2[0:crossOverPoint]+parent1[crossOverPoint:]\n",
    "    \n",
    "    # Mutation\n",
    "    child1[random.randint(0,len(targetSequence)-1)] = str(secureRandom.choice(positions))\n",
    "    child2[random.randint(0,len(targetSequence)-1)] = str(secureRandom.choice(positions))\n",
    "    \n",
    "    #adding to initial sequence\n",
    "    initialSequence.append(child1)\n",
    "    initialSequence.append(child2)\n",
    "    \n",
    "    #calculating score\n",
    "    sequenceScore.append(generate_sequence_score(child1))\n",
    "    sequenceScore.append(generate_sequence_score(child2))\n",
    "    \n",
    "    #calculating probability\n",
    "    probabilityDist.append(generate_sequence_score(child1)/len(targetSequence))\n",
    "    probabilityDist.append(generate_sequence_score(child2)/len(targetSequence))\n",
    "    \n",
    "\n",
    "    return child1,child2\n",
    "    \n",
    "    "
   ]
  },
  {
   "cell_type": "code",
   "execution_count": 42,
   "metadata": {},
   "outputs": [
    {
     "name": "stdout",
     "output_type": "stream",
     "text": [
      "Generation  0    Average Sequence Score  1.0079681274900398   71745422   4 31406222 4\n",
      "Generation  1    Average Sequence Score  1.0178571428571428   71446222   4 51406222 3\n",
      "Generation  2    Average Sequence Score  1.0296442687747036   71776126   4 07746222 4\n",
      "Generation  3    Average Sequence Score  1.0413385826771653   71746226   5 07736222 3\n",
      "Generation  4    Average Sequence Score  1.0568627450980392   71746212   4 71746225 6\n",
      "Generation  5    Average Sequence Score  1.0703125   71740226   4 71746223 5\n",
      "Generation  6    Average Sequence Score  1.083657587548638   71741223   4 71746223 5\n",
      "Generation  7    Average Sequence Score  1.0968992248062015   71546223   4 71346225 5\n",
      "Generation  8    Average Sequence Score  1.11003861003861   71766225   5 71341225 4\n",
      "Generation  9    Average Sequence Score  1.123076923076923   71726225   5 71767225 4\n",
      "Generation  10    Average Sequence Score  1.1379310344827587   71746236   4 21746225 6\n",
      "Generation  11    Average Sequence Score  1.1583969465648856   21746225   6 31746225 7\n",
      "Generation  12    Average Sequence Score  1.1768060836501901   31746225   7 23746225 5\n",
      "Generation  13    Average Sequence Score  1.1950757575757576   31756225   6 61746225 6\n",
      "Generation  14    Average Sequence Score  1.2132075471698114   35746225   6 31742225 6\n",
      "Generation  15    Average Sequence Score  1.231203007518797   51746225   6 31745225 6\n",
      "Generation  16    Average Sequence Score  1.249063670411985   31776225   6 31736225 6\n",
      "Generation  17    Average Sequence Score  1.2686567164179106   31747225   6 31746725 7\n",
      "Generation  18    Average Sequence Score  1.2862453531598512   31646225   6 31736725 6\n",
      "Generation  19    Average Sequence Score  1.3037037037037038   31746226   6 31746715 6\n",
      "Generation  20    Average Sequence Score  1.3210332103321034   31776725   6 31746220 6\n",
      "Generation  21    Average Sequence Score  1.3400735294117647   31746227   6 31746225 7\n",
      "Generation  22    Average Sequence Score  1.358974358974359   32746225   6 31746225 7\n",
      "Generation  23    Average Sequence Score  1.3795620437956204   31746220   6 31746025 8\n",
      "Valid Sequence Generated at iteration: 24 Sequence - ['3', '1', '7', '4', '6', '0', '2', '5']\n"
     ]
    }
   ],
   "source": [
    "if __name__ == \"__main__\":\n",
    "       \n",
    "    srcseqScore = calculate_fitness(targetSequence)\n",
    "    if srcseqScore != maxFitness:\n",
    "        sys.exit('Not Valid Sequence. Skiiped Generation')\n",
    "    else:\n",
    "    \n",
    "        initialSequence,sequenceScore = generate_initial_sequence()\n",
    "        probabilityDist = []\n",
    "        for sequenceNum in range(totalSequence):\n",
    "            probabilityDist.append(sequenceScore[sequenceNum]/len(targetSequence))\n",
    "\n",
    "        queenSequenceDF = pd.DataFrame({'QueenSequence':initialSequence,'SequenceScore':sequenceScore,'Probability':probabilityDist})\n",
    "        queenSequenceDF = queenSequenceDF.sort_values(['Probability'],ascending=False)\n",
    "        queenSequenceDF = queenSequenceDF.reset_index(drop=True)\n",
    "\n",
    "        generationCount = 1000 # for total iteration to identify target sequence\n",
    "\n",
    "        for loop in range(generationCount):\n",
    "            parent1 = queenSequenceDF[0:1][\"QueenSequence\"].values[0]\n",
    "            parent2 = queenSequenceDF[1:2][\"QueenSequence\"].values[0]\n",
    "\n",
    "            # Incase of drawn data score matches with target\n",
    "            if (generate_sequence_score(parent1)==len(targetSequence)):\n",
    "                print(\"Valid Sequence Generated at iteration:\",loop,'Sequence -',parent1)\n",
    "                break\n",
    "            elif(generate_sequence_score(parent2)==len(targetSequence)):\n",
    "                print(\"Valid Sequence Generated at iteration:\",loop,'Sequence -',parent2)\n",
    "                break\n",
    "\n",
    "            child1,child2 = perform_crossover_mutation(parent1,parent2)\n",
    "\n",
    "            queenSequenceDF = pd.DataFrame({'QueenSequence':initialSequence,'SequenceScore':sequenceScore,'Probability':probabilityDist})\n",
    "            queenSequenceDF = queenSequenceDF.sort_values(['Probability'],ascending=False)\n",
    "            queenSequenceDF = queenSequenceDF.reset_index(drop=True)\n",
    "\n",
    "\n",
    "\n",
    "            print('Generation ',loop,' ',' Average Sequence Score ',queenSequenceDF[\"SequenceScore\"].mean(),' ',\n",
    "                  ''.join(str(elem) for elem in child1),' ',generate_sequence_score(child1),\n",
    "                  ''.join(str(elem) for elem in child2),generate_sequence_score(child2)\n",
    "                 )"
   ]
  },
  {
   "cell_type": "code",
   "execution_count": null,
   "metadata": {},
   "outputs": [],
   "source": []
  }
 ],
 "metadata": {
  "kernelspec": {
   "display_name": "Python 3",
   "language": "python",
   "name": "python3"
  },
  "language_info": {
   "codemirror_mode": {
    "name": "ipython",
    "version": 3
   },
   "file_extension": ".py",
   "mimetype": "text/x-python",
   "name": "python",
   "nbconvert_exporter": "python",
   "pygments_lexer": "ipython3",
   "version": "3.7.0"
  }
 },
 "nbformat": 4,
 "nbformat_minor": 2
}
